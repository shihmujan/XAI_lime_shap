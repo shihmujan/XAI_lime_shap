{
  "cells": [
    {
      "cell_type": "markdown",
      "metadata": {
        "id": "view-in-github",
        "colab_type": "text"
      },
      "source": [
        "<a href=\"https://colab.research.google.com/github/shihmujan/classs/blob/main/Alzheimer_ipynb.ipynb\" target=\"_parent\"><img src=\"https://colab.research.google.com/assets/colab-badge.svg\" alt=\"Open In Colab\"/></a>"
      ]
    },
    {
      "cell_type": "markdown",
      "source": [
        "**讀取資料**"
      ],
      "metadata": {
        "id": "eiD7Fz6a0l-8"
      },
      "id": "eiD7Fz6a0l-8"
    },
    {
      "cell_type": "code",
      "execution_count": 1,
      "id": "qX10CcJdvUaf",
      "metadata": {
        "colab": {
          "base_uri": "https://localhost:8080/",
          "height": 417
        },
        "id": "qX10CcJdvUaf",
        "outputId": "1374e52a-ee7f-4779-e748-fed0357f51fe"
      },
      "outputs": [
        {
          "output_type": "stream",
          "name": "stderr",
          "text": [
            "Downloading...\n",
            "From: https://drive.google.com/u/2/uc?id=1Pc4yDR0c-WrClg7_PmzggqwUbATTxJAH&export=download&confirm=t\n",
            "To: /content/Alzheimer.zip\n",
            "100%|██████████| 456M/456M [00:05<00:00, 88.7MB/s]\n"
          ]
        },
        {
          "output_type": "error",
          "ename": "KeyboardInterrupt",
          "evalue": "ignored",
          "traceback": [
            "\u001b[0;31m---------------------------------------------------------------------------\u001b[0m",
            "\u001b[0;31mKeyboardInterrupt\u001b[0m                         Traceback (most recent call last)",
            "\u001b[0;32m<ipython-input-1-d43bf8eecec5>\u001b[0m in \u001b[0;36m<module>\u001b[0;34m()\u001b[0m\n\u001b[1;32m     12\u001b[0m \u001b[0;34m\u001b[0m\u001b[0m\n\u001b[1;32m     13\u001b[0m \u001b[0mfile_path\u001b[0m \u001b[0;34m=\u001b[0m \u001b[0;34m\"Alzheimer.zip\"\u001b[0m\u001b[0;34m\u001b[0m\u001b[0;34m\u001b[0m\u001b[0m\n\u001b[0;32m---> 14\u001b[0;31m \u001b[0mzip_list\u001b[0m\u001b[0;34m(\u001b[0m\u001b[0mfile_path\u001b[0m\u001b[0;34m)\u001b[0m\u001b[0;34m\u001b[0m\u001b[0;34m\u001b[0m\u001b[0m\n\u001b[0m",
            "\u001b[0;32m<ipython-input-1-d43bf8eecec5>\u001b[0m in \u001b[0;36mzip_list\u001b[0;34m(file_path)\u001b[0m\n\u001b[1;32m      5\u001b[0m \u001b[0;32mdef\u001b[0m \u001b[0mzip_list\u001b[0m\u001b[0;34m(\u001b[0m\u001b[0mfile_path\u001b[0m\u001b[0;34m)\u001b[0m\u001b[0;34m:\u001b[0m\u001b[0;34m\u001b[0m\u001b[0;34m\u001b[0m\u001b[0m\n\u001b[1;32m      6\u001b[0m     \u001b[0mzf\u001b[0m \u001b[0;34m=\u001b[0m \u001b[0mzipfile\u001b[0m\u001b[0;34m.\u001b[0m\u001b[0mZipFile\u001b[0m\u001b[0;34m(\u001b[0m\u001b[0mfile_path\u001b[0m\u001b[0;34m,\u001b[0m \u001b[0;34m'r'\u001b[0m\u001b[0;34m)\u001b[0m\u001b[0;34m\u001b[0m\u001b[0;34m\u001b[0m\u001b[0m\n\u001b[0;32m----> 7\u001b[0;31m     \u001b[0mzf\u001b[0m\u001b[0;34m.\u001b[0m\u001b[0mextractall\u001b[0m\u001b[0;34m(\u001b[0m\u001b[0;34m)\u001b[0m\u001b[0;34m\u001b[0m\u001b[0;34m\u001b[0m\u001b[0m\n\u001b[0m\u001b[1;32m      8\u001b[0m \u001b[0;34m\u001b[0m\u001b[0m\n\u001b[1;32m      9\u001b[0m \u001b[0murl\u001b[0m \u001b[0;34m=\u001b[0m \u001b[0;34m'https://drive.google.com/u/2/uc?id=1Pc4yDR0c-WrClg7_PmzggqwUbATTxJAH&export=download&confirm=t'\u001b[0m\u001b[0;34m\u001b[0m\u001b[0;34m\u001b[0m\u001b[0m\n",
            "\u001b[0;32m/usr/lib/python3.7/zipfile.py\u001b[0m in \u001b[0;36mextractall\u001b[0;34m(self, path, members, pwd)\u001b[0m\n\u001b[1;32m   1634\u001b[0m \u001b[0;34m\u001b[0m\u001b[0m\n\u001b[1;32m   1635\u001b[0m         \u001b[0;32mfor\u001b[0m \u001b[0mzipinfo\u001b[0m \u001b[0;32min\u001b[0m \u001b[0mmembers\u001b[0m\u001b[0;34m:\u001b[0m\u001b[0;34m\u001b[0m\u001b[0;34m\u001b[0m\u001b[0m\n\u001b[0;32m-> 1636\u001b[0;31m             \u001b[0mself\u001b[0m\u001b[0;34m.\u001b[0m\u001b[0m_extract_member\u001b[0m\u001b[0;34m(\u001b[0m\u001b[0mzipinfo\u001b[0m\u001b[0;34m,\u001b[0m \u001b[0mpath\u001b[0m\u001b[0;34m,\u001b[0m \u001b[0mpwd\u001b[0m\u001b[0;34m)\u001b[0m\u001b[0;34m\u001b[0m\u001b[0;34m\u001b[0m\u001b[0m\n\u001b[0m\u001b[1;32m   1637\u001b[0m \u001b[0;34m\u001b[0m\u001b[0m\n\u001b[1;32m   1638\u001b[0m     \u001b[0;34m@\u001b[0m\u001b[0mclassmethod\u001b[0m\u001b[0;34m\u001b[0m\u001b[0;34m\u001b[0m\u001b[0m\n",
            "\u001b[0;32m/usr/lib/python3.7/zipfile.py\u001b[0m in \u001b[0;36m_extract_member\u001b[0;34m(self, member, targetpath, pwd)\u001b[0m\n\u001b[1;32m   1689\u001b[0m         \u001b[0;32mwith\u001b[0m \u001b[0mself\u001b[0m\u001b[0;34m.\u001b[0m\u001b[0mopen\u001b[0m\u001b[0;34m(\u001b[0m\u001b[0mmember\u001b[0m\u001b[0;34m,\u001b[0m \u001b[0mpwd\u001b[0m\u001b[0;34m=\u001b[0m\u001b[0mpwd\u001b[0m\u001b[0;34m)\u001b[0m \u001b[0;32mas\u001b[0m \u001b[0msource\u001b[0m\u001b[0;34m,\u001b[0m\u001b[0;31m \u001b[0m\u001b[0;31m\\\u001b[0m\u001b[0;34m\u001b[0m\u001b[0;34m\u001b[0m\u001b[0m\n\u001b[1;32m   1690\u001b[0m              \u001b[0mopen\u001b[0m\u001b[0;34m(\u001b[0m\u001b[0mtargetpath\u001b[0m\u001b[0;34m,\u001b[0m \u001b[0;34m\"wb\"\u001b[0m\u001b[0;34m)\u001b[0m \u001b[0;32mas\u001b[0m \u001b[0mtarget\u001b[0m\u001b[0;34m:\u001b[0m\u001b[0;34m\u001b[0m\u001b[0;34m\u001b[0m\u001b[0m\n\u001b[0;32m-> 1691\u001b[0;31m             \u001b[0mshutil\u001b[0m\u001b[0;34m.\u001b[0m\u001b[0mcopyfileobj\u001b[0m\u001b[0;34m(\u001b[0m\u001b[0msource\u001b[0m\u001b[0;34m,\u001b[0m \u001b[0mtarget\u001b[0m\u001b[0;34m)\u001b[0m\u001b[0;34m\u001b[0m\u001b[0;34m\u001b[0m\u001b[0m\n\u001b[0m\u001b[1;32m   1692\u001b[0m \u001b[0;34m\u001b[0m\u001b[0m\n\u001b[1;32m   1693\u001b[0m         \u001b[0;32mreturn\u001b[0m \u001b[0mtargetpath\u001b[0m\u001b[0;34m\u001b[0m\u001b[0;34m\u001b[0m\u001b[0m\n",
            "\u001b[0;32m/usr/lib/python3.7/shutil.py\u001b[0m in \u001b[0;36mcopyfileobj\u001b[0;34m(fsrc, fdst, length)\u001b[0m\n\u001b[1;32m     80\u001b[0m         \u001b[0;32mif\u001b[0m \u001b[0;32mnot\u001b[0m \u001b[0mbuf\u001b[0m\u001b[0;34m:\u001b[0m\u001b[0;34m\u001b[0m\u001b[0;34m\u001b[0m\u001b[0m\n\u001b[1;32m     81\u001b[0m             \u001b[0;32mbreak\u001b[0m\u001b[0;34m\u001b[0m\u001b[0;34m\u001b[0m\u001b[0m\n\u001b[0;32m---> 82\u001b[0;31m         \u001b[0mfdst\u001b[0m\u001b[0;34m.\u001b[0m\u001b[0mwrite\u001b[0m\u001b[0;34m(\u001b[0m\u001b[0mbuf\u001b[0m\u001b[0;34m)\u001b[0m\u001b[0;34m\u001b[0m\u001b[0;34m\u001b[0m\u001b[0m\n\u001b[0m\u001b[1;32m     83\u001b[0m \u001b[0;34m\u001b[0m\u001b[0m\n\u001b[1;32m     84\u001b[0m \u001b[0;32mdef\u001b[0m \u001b[0m_samefile\u001b[0m\u001b[0;34m(\u001b[0m\u001b[0msrc\u001b[0m\u001b[0;34m,\u001b[0m \u001b[0mdst\u001b[0m\u001b[0;34m)\u001b[0m\u001b[0;34m:\u001b[0m\u001b[0;34m\u001b[0m\u001b[0;34m\u001b[0m\u001b[0m\n",
            "\u001b[0;31mKeyboardInterrupt\u001b[0m: "
          ]
        }
      ],
      "source": [
        "import gdown\n",
        "import zipfile \n",
        "import os \n",
        "\n",
        "def zip_list(file_path):\n",
        "    zf = zipfile.ZipFile(file_path, 'r')\n",
        "    zf.extractall()\n",
        "\n",
        "url = 'https://drive.google.com/u/2/uc?id=1Pc4yDR0c-WrClg7_PmzggqwUbATTxJAH&export=download&confirm=t'\n",
        "output = \"Alzheimer.zip\"\n",
        "gdown.download(url, output)\n",
        "\n",
        "file_path = \"Alzheimer.zip\"\n",
        "zip_list(file_path)"
      ]
    },
    {
      "cell_type": "code",
      "execution_count": null,
      "id": "nLIfTUuKvVsN",
      "metadata": {
        "id": "nLIfTUuKvVsN"
      },
      "outputs": [],
      "source": [
        "!pip install lime\n",
        "!pip install einops"
      ]
    },
    {
      "cell_type": "markdown",
      "source": [
        "**插入套件**"
      ],
      "metadata": {
        "id": "XvaTy_EF0twU"
      },
      "id": "XvaTy_EF0twU"
    },
    {
      "cell_type": "code",
      "execution_count": null,
      "id": "cc5f92f9",
      "metadata": {
        "id": "cc5f92f9"
      },
      "outputs": [],
      "source": [
        "import os\n",
        "from Load_Dataset import *\n",
        "from tqdm import tqdm\n",
        "from util import *\n",
        "from trainer import trainer\n",
        "from torchvision.models.resnet import resnet34\n",
        "from Models import *\n",
        "import lime\n",
        "from lime import lime_image\n",
        "import random\n",
        "from skimage.segmentation import mark_boundaries"
      ]
    },
    {
      "cell_type": "markdown",
      "source": [
        "**預設訓練學習率**"
      ],
      "metadata": {
        "id": "_hdYHLUS0x2z"
      },
      "id": "_hdYHLUS0x2z"
    },
    {
      "cell_type": "code",
      "execution_count": null,
      "id": "6c2e6e25",
      "metadata": {
        "id": "6c2e6e25"
      },
      "outputs": [],
      "source": [
        "lr = 0.001  #學習率\n",
        "resume = True  #是否使用預訓練資料\n",
        "device = 'cuda' if torch.cuda.is_available() else 'cpu'\n",
        "best_acc = 0  # best test accuracy\n",
        "epoch = 1000\n",
        "batch_size = 25\n",
        "momentum = 0.9"
      ]
    },
    {
      "cell_type": "markdown",
      "source": [
        "**訓練資料**"
      ],
      "metadata": {
        "id": "-MpFDUAR1V4E"
      },
      "id": "-MpFDUAR1V4E"
    },
    {
      "cell_type": "code",
      "execution_count": null,
      "id": "459f860e",
      "metadata": {
        "id": "459f860e"
      },
      "outputs": [],
      "source": [
        "train_ds, test_ds, idx_to_class = Return_Dataset(batch_size) #設定data loader\n",
        "model = coatnet_2().to(device) #設定模型\n",
        "\n",
        "if resume: \n",
        "    # Load checkpoint.\n",
        "    print('==> Resuming from checkpoint..')\n",
        "    assert os.path.isdir('checkpoint'), 'Error: no checkpoint directory found!'\n",
        "    checkpoint = torch.load('checkpoint/ckpt.pth')\n",
        "    model.load_state_dict(checkpoint['net'])\n",
        "    best_acc = checkpoint['acc']\n",
        "    start_epoch = checkpoint['epoch']\n",
        "\n",
        "optimizer = torch.optim.Adam(\n",
        "    params=model.parameters(),\n",
        "    lr=lr,\n",
        "    betas=(0.9, 0.999),\n",
        ")\n",
        "loss_function = nn.CrossEntropyLoss()\n",
        "trainer = trainer(\n",
        "    model=model,\n",
        "    optimizer=optimizer,\n",
        "    loss_function=loss_function,\n",
        "    epoch=epoch, \n",
        "    resume=resume,\n",
        "    trainloader=train_ds,\n",
        "    testloader=test_ds,\n",
        "    device=device\n",
        ")\n",
        "#trainer.test_epoch(0) #測試準確度"
      ]
    },
    {
      "cell_type": "markdown",
      "source": [
        "**工具箱初始化**"
      ],
      "metadata": {
        "id": "pxkQJCGX4z_x"
      },
      "id": "pxkQJCGX4z_x"
    },
    {
      "cell_type": "code",
      "execution_count": null,
      "id": "18527826",
      "metadata": {
        "id": "18527826"
      },
      "outputs": [],
      "source": [
        "tool = Utils(model,idx_to_class) "
      ]
    },
    {
      "cell_type": "markdown",
      "source": [
        "**獲取影像與標籤**"
      ],
      "metadata": {
        "id": "wper_qJF1mQ4"
      },
      "id": "wper_qJF1mQ4"
    },
    {
      "cell_type": "code",
      "execution_count": null,
      "id": "f3c7976f",
      "metadata": {
        "id": "f3c7976f"
      },
      "outputs": [],
      "source": [
        "dataset = ImageFolder('Alzheimer/train')\n",
        "valset = ImageFolder('Alzheimer/test')"
      ]
    },
    {
      "cell_type": "code",
      "execution_count": null,
      "id": "b43d9781",
      "metadata": {
        "id": "b43d9781"
      },
      "outputs": [],
      "source": [
        "img,lab,pred = tool.get_test_img(dataset) #獲取圖片、標籤、預測結果\n",
        "tool.is_the_same(lab,pred) #print 預測是否正確"
      ]
    },
    {
      "cell_type": "markdown",
      "source": [
        "**顯示解釋器對影像的前處理**"
      ],
      "metadata": {
        "id": "7mRDiwUo5Lcj"
      },
      "id": "7mRDiwUo5Lcj"
    },
    {
      "cell_type": "code",
      "execution_count": null,
      "id": "76912291",
      "metadata": {
        "id": "76912291"
      },
      "outputs": [],
      "source": [
        "explainer = lime_image.LimeImageExplainer()\n",
        "exp = explainer.explain_instance(img, tool.show_batch_predict, top_labels=1, hide_color=0,num_samples=10)"
      ]
    },
    {
      "cell_type": "markdown",
      "source": [
        "**重新獲取影像、標籤與預測結果**"
      ],
      "metadata": {
        "id": "s0IBN5VV5PGb"
      },
      "id": "s0IBN5VV5PGb"
    },
    {
      "cell_type": "code",
      "execution_count": null,
      "id": "0c3e172e",
      "metadata": {
        "id": "0c3e172e"
      },
      "outputs": [],
      "source": [
        "img,lab,pred = tool.get_test_img(dataset)\n",
        "tool.is_the_same(lab,pred)"
      ]
    },
    {
      "cell_type": "markdown",
      "source": [
        "**放入解釋器解釋**"
      ],
      "metadata": {
        "id": "lfIee9U55dfQ"
      },
      "id": "lfIee9U55dfQ"
    },
    {
      "cell_type": "code",
      "execution_count": null,
      "id": "sMSgG19IwzTk",
      "metadata": {
        "id": "sMSgG19IwzTk"
      },
      "outputs": [],
      "source": [
        "explainer = lime_image.LimeImageExplainer()\n",
        "exp = explainer.explain_instance(img, tool.batch_predict, top_labels=4, hide_color=0,num_samples=200)"
      ]
    },
    {
      "cell_type": "code",
      "source": [
        "dict_heatmap = dict(exp.local_exp[lab])\n",
        "heatmap = np.vectorize(dict_heatmap.get)(exp.segments) \n",
        "print('label:',idx_to_class[lab],'predict:',idx_to_class[pred])\n",
        "plt.imshow(img)\n",
        "plt.show()\n",
        "plt.imshow(heatmap, cmap = 'RdBu', vmin  = -heatmap.max(), vmax = heatmap.max())\n",
        "plt.colorbar()"
      ],
      "metadata": {
        "id": "N_biXWUChHHA"
      },
      "id": "N_biXWUChHHA",
      "execution_count": null,
      "outputs": []
    },
    {
      "cell_type": "code",
      "execution_count": null,
      "id": "186c517c",
      "metadata": {
        "id": "186c517c"
      },
      "outputs": [],
      "source": [
        "# 只顯示重要部分\n",
        "temp, mask = exp.get_image_and_mask(lab, positive_only=True, num_features=1, hide_rest=True)\n",
        "img = mark_boundaries(temp / 255.0, mask)\n",
        "plt.imshow(img)"
      ]
    },
    {
      "cell_type": "code",
      "execution_count": null,
      "id": "dbae2e9b",
      "metadata": {
        "id": "dbae2e9b"
      },
      "outputs": [],
      "source": [
        "#顯示重要部分\n",
        "temp, mask = exp.get_image_and_mask(lab, positive_only=True, num_features=1, hide_rest=False)\n",
        "img = mark_boundaries(temp / 255.0, mask)\n",
        "plt.imshow(img)"
      ]
    },
    {
      "cell_type": "code",
      "execution_count": null,
      "id": "4c42fb69",
      "metadata": {
        "id": "4c42fb69"
      },
      "outputs": [],
      "source": [
        "#增加遮罩式意圖\n",
        "temp, mask = exp.get_image_and_mask(lab, positive_only=False, num_features=1, hide_rest=False)\n",
        "img = mark_boundaries(temp / 255.0, mask)\n",
        "plt.imshow(img)"
      ]
    },
    {
      "cell_type": "code",
      "execution_count": null,
      "id": "9446d53b",
      "metadata": {
        "id": "9446d53b"
      },
      "outputs": [],
      "source": [
        "#對於其他類別分類結果\n",
        "temp, mask = exp.get_image_and_mask(lab, positive_only=False, num_features=4, hide_rest=False)\n",
        "img = mark_boundaries(temp / 255.0, mask)\n",
        "plt.imshow(img)"
      ]
    },
    {
      "cell_type": "markdown",
      "source": [
        "不同類別的解釋結果->每一列為一個類別\n",
        "\n",
        "search_correct 只尋找正確預測結果\n",
        "\n",
        "search_error 只尋錯誤預測結果\n",
        "\n",
        "search_random 隨機尋找正確與錯誤\n",
        "\n",
        "[0,0,0,0] 尋找標籤為0的類別\n",
        "\n",
        "[1,2,3,4] 標籤為1234各找一個 **粗體文字**"
      ],
      "metadata": {
        "id": "AD9hkwbm6CpA"
      },
      "id": "AD9hkwbm6CpA"
    },
    {
      "cell_type": "code",
      "execution_count": null,
      "id": "a4f67d39",
      "metadata": {
        "id": "a4f67d39"
      },
      "outputs": [],
      "source": [
        "import cv2\n",
        "img_list = tool.search_correct([0,1,2,3],dataset)\n",
        "tool.run_all_image_list_and_show(img_list)"
      ]
    },
    {
      "cell_type": "code",
      "execution_count": null,
      "id": "c13461fb",
      "metadata": {
        "id": "c13461fb"
      },
      "outputs": [],
      "source": [
        "img_list = tool.search_correct([0,0,0,0],dataset)\n",
        "tool.run_all_image_list_and_show(img_list)"
      ]
    },
    {
      "cell_type": "code",
      "execution_count": null,
      "id": "NagucWHk0CAN",
      "metadata": {
        "id": "NagucWHk0CAN"
      },
      "outputs": [],
      "source": [
        "img_list = tool.search_correct([1,1,1,1],dataset)\n",
        "tool.run_all_image_list_and_show(img_list)"
      ]
    },
    {
      "cell_type": "code",
      "execution_count": null,
      "id": "JBzsd0Bs59Eu",
      "metadata": {
        "id": "JBzsd0Bs59Eu"
      },
      "outputs": [],
      "source": [
        "img_list = tool.search_correct([2,2,2,2],dataset)\n",
        "tool.run_all_image_list_and_show(img_list)"
      ]
    },
    {
      "cell_type": "code",
      "execution_count": null,
      "id": "KCr9Bfqt59SO",
      "metadata": {
        "id": "KCr9Bfqt59SO"
      },
      "outputs": [],
      "source": [
        "img_list = tool.search_correct([3,3,3,3],dataset)\n",
        "tool.run_all_image_list_and_show(img_list)"
      ]
    },
    {
      "cell_type": "code",
      "execution_count": null,
      "id": "f6KPa1n_6G7d",
      "metadata": {
        "id": "f6KPa1n_6G7d"
      },
      "outputs": [],
      "source": [
        "img_list = tool.search_error([0,1,2,3],valset)\n",
        "tool.run_all_image_list_and_show(img_list)"
      ]
    },
    {
      "cell_type": "code",
      "execution_count": null,
      "id": "1792ef4d",
      "metadata": {
        "id": "1792ef4d"
      },
      "outputs": [],
      "source": [
        ""
      ]
    },
    {
      "cell_type": "code",
      "execution_count": null,
      "id": "396fc937",
      "metadata": {
        "id": "396fc937"
      },
      "outputs": [],
      "source": [
        ""
      ]
    },
    {
      "cell_type": "code",
      "source": [
        ""
      ],
      "metadata": {
        "id": "GuHqQML80gGM"
      },
      "id": "GuHqQML80gGM",
      "execution_count": null,
      "outputs": []
    }
  ],
  "metadata": {
    "accelerator": "GPU",
    "colab": {
      "collapsed_sections": [],
      "name": "「Alzheimer.ipynb」的副本",
      "provenance": [],
      "include_colab_link": true
    },
    "kernelspec": {
      "display_name": "Python 3 (ipykernel)",
      "language": "python",
      "name": "python3"
    },
    "language_info": {
      "codemirror_mode": {
        "name": "ipython",
        "version": 3
      },
      "file_extension": ".py",
      "mimetype": "text/x-python",
      "name": "python",
      "nbconvert_exporter": "python",
      "pygments_lexer": "ipython3",
      "version": "3.7.11"
    }
  },
  "nbformat": 4,
  "nbformat_minor": 5
}